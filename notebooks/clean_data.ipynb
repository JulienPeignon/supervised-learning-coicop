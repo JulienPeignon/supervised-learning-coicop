{
 "cells": [
  {
   "cell_type": "code",
   "execution_count": null,
   "id": "41ede147-e9c2-4520-ba0d-a533ba0856ea",
   "metadata": {},
   "outputs": [],
   "source": [
    "import os\n",
    "os.chdir('..')"
   ]
  },
  {
   "cell_type": "code",
   "execution_count": null,
   "id": "228a3cdf-0cac-44d0-b677-53056d3ea451",
   "metadata": {},
   "outputs": [],
   "source": [
    "import pandas as pd\n",
    "import yaml\n",
    "\n",
    "from src.features.functions_clean_ean import total_clean_ean\n",
    "from src.features.functions_clean_labels import total_clean_label\n",
    "from src.features.functions_get_true_label import get_true_label\n",
    "\n",
    "def import_yaml_config(location: str) -> dict:\n",
    "    \"\"\"\n",
    "    import_yaml_config:\n",
    "        wrapper to easily import yaml\n",
    "\n",
    "    @param location (str): File path\n",
    "    \"\"\"\n",
    "    with open(location, \"r\", encoding=\"utf-8\") as stream:\n",
    "        config = yaml.safe_load(stream)\n",
    "\n",
    "    return config\n",
    "\n",
    "config = import_yaml_config('configuration/config.yaml')"
   ]
  },
  {
   "cell_type": "code",
   "execution_count": null,
   "id": "bff547cc-8331-4191-9674-932bb071f392",
   "metadata": {},
   "outputs": [],
   "source": [
    "path_data = config['path']['path_data']\n",
    "data_lidl_raw = config['data_raw']['lidl_raw']\n",
    "\n",
    "dtype={\n",
    "    'ean': str,\n",
    "    'description_ean': str,\n",
    "    'id_famille': str,\n",
    "    'ca': float,\n",
    "    'ca_prix_qte': float\n",
    "}"
   ]
  },
  {
   "cell_type": "code",
   "execution_count": null,
   "id": "f28fc187-bf67-463d-8726-3152b0a1b288",
   "metadata": {},
   "outputs": [],
   "source": [
    "df = pd.read_csv(path_data + data_lidl_raw, dtype=dtype).rename(columns=lambda x: x.upper())"
   ]
  },
  {
   "cell_type": "markdown",
   "id": "6576ea0b-c23c-4059-826f-3503e208720c",
   "metadata": {},
   "source": [
    "# Cleaning up & reconstructing EANs"
   ]
  },
  {
   "cell_type": "code",
   "execution_count": null,
   "id": "ab3b556a-b8b8-4734-b9b7-65ab762c2108",
   "metadata": {},
   "outputs": [],
   "source": [
    "df = total_clean_ean(\n",
    "    df,\n",
    "    drop=True,\n",
    "    ean_column_input=\"EAN\",\n",
    "    ean_column_output=\"EAN_FINAL\",\n",
    "    column_not_to_drop=[\"DESCRIPTION_EAN\", \"ID_FAMILLE\", \"CA\", \"CA_PRIX_QTE\"],\n",
    ")"
   ]
  },
  {
   "cell_type": "markdown",
   "id": "634b0096-2bcd-4cae-926b-72d864640b73",
   "metadata": {},
   "source": [
    "# Cleaning up product descriptions"
   ]
  },
  {
   "cell_type": "code",
   "execution_count": null,
   "id": "b2b4c03d-0755-4061-8962-485fde503b68",
   "metadata": {},
   "outputs": [],
   "source": [
    "df = total_clean_label(\n",
    "    df,\n",
    "    drop=True,\n",
    "    stem=False,\n",
    "    ean_column=\"EAN_FINAL\",\n",
    "    label_column=\"DESCRIPTION_EAN\",\n",
    "    label_column_final=\"DESCRIPTION_EAN_FINAL\",\n",
    "    column_not_to_drop=[\"EAN_FINAL\", \"ID_FAMILLE\", \"CA\", \"CA_PRIX_QTE\"],\n",
    ")"
   ]
  },
  {
   "cell_type": "markdown",
   "id": "257af078-a802-4a3b-a251-73577c0112e1",
   "metadata": {},
   "source": [
    "# Adding labels"
   ]
  },
  {
   "cell_type": "code",
   "execution_count": null,
   "id": "6a6f8256-72bf-42f2-99a6-047ead214bdd",
   "metadata": {},
   "outputs": [],
   "source": [
    "df = get_true_label(\n",
    "    df,\n",
    "    path_conversion_iri=path_data + config[\"conversion_files\"][\"conversion_iri\"],\n",
    "    path_data_field=path_data + config[\"data_raw\"][\"sample_field\"],\n",
    "    path_conversion_variete=path_data + config[\"conversion_files\"][\"conversion_variete\"],\n",
    "    path_conversion_ean_iri=path_data + config[\"conversion_files\"][\"conversion_ean_iri\"],\n",
    "    brand_column=\"ENSEIGNE\",\n",
    "    brand=\"LIDL\",\n",
    "    iri_column=\"ID_FAMILLE\",\n",
    "    ean_column=\"CODE_BARRES\",\n",
    "    label_column=\"LIBELLE\",\n",
    ")"
   ]
  }
 ],
 "metadata": {
  "kernelspec": {
   "display_name": "Python 3 (ipykernel)",
   "language": "python",
   "name": "python3"
  },
  "language_info": {
   "codemirror_mode": {
    "name": "ipython",
    "version": 3
   },
   "file_extension": ".py",
   "mimetype": "text/x-python",
   "name": "python",
   "nbconvert_exporter": "python",
   "pygments_lexer": "ipython3",
   "version": "3.8.11"
  }
 },
 "nbformat": 4,
 "nbformat_minor": 5
}
