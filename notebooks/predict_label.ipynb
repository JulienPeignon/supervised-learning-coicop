{
 "cells": [
  {
   "cell_type": "code",
   "execution_count": null,
   "id": "b54b834e-1853-4acc-857a-ae59b905f030",
   "metadata": {},
   "outputs": [],
   "source": [
    "import os\n",
    "os.chdir('..')"
   ]
  },
  {
   "cell_type": "code",
   "execution_count": null,
   "id": "ef4a803b-bab5-4140-aa6f-04b2a6361030",
   "metadata": {},
   "outputs": [],
   "source": [
    "import pandas as pd\n",
    "import yaml\n",
    "import parquet\n",
    "import multiprocessing\n",
    "\n",
    "from src.models.lcpn_fasttext import get_LCPN_prediction_fasttext\n",
    "from src.models.flat_fasttext import get_flat_prediction_fasttext\n",
    "from src.models.evaluation import get_evaluation_model\n",
    "from src.models.hiclass import get_data_hiclass\n",
    "from src.visualization.export_data_quarto import (\n",
    "    export_sankey_data,\n",
    "    export_accuracy_data\n",
    ")    \n",
    "\n",
    "from sklearn.model_selection import train_test_split\n",
    "from sklearn.pipeline import Pipeline\n",
    "from sklearn.feature_extraction.text import TfidfVectorizer\n",
    "from sklearn.svm import SVC\n",
    "from hiclass import LocalClassifierPerParentNode\n",
    "\n",
    "def import_yaml_config(location: str) -> dict:\n",
    "    \"\"\"\n",
    "    import_yaml_config:\n",
    "        wrapper to easily import yaml\n",
    "\n",
    "    @param location (str): File path\n",
    "    \"\"\"\n",
    "    with open(location, \"r\", encoding=\"utf-8\") as stream:\n",
    "        config = yaml.safe_load(stream)\n",
    "\n",
    "    return config\n",
    "\n",
    "config = import_yaml_config('configuration/config.yaml')"
   ]
  },
  {
   "cell_type": "code",
   "execution_count": null,
   "id": "fe4ccec9-353a-45de-9839-ca541997775c",
   "metadata": {},
   "outputs": [],
   "source": [
    "params = {\n",
    "    \"dim\": 100,                          # Size of word vectors\n",
    "    \"lr\": 0.1,                           # Learning rate\n",
    "    \"epoch\": 100,                       # Number of training epochs to train for\n",
    "    \"wordNgrams\": 3,                     # Number of word n-grams to consider during training\n",
    "    \"minn\": 3,                           # Min length of char ngram\n",
    "    \"maxn\": 6,                           # Max length of char ngram\n",
    "    \"minCount\": 3,                       # Min number of word occurences\n",
    "    \"bucket\": 1000000,                   # Number of buckets (limit on the number of character n-grams)\n",
    "    \"loss\": \"ova\",                         # Type of loss\n",
    "    \"label_prefix\": \"__label__\",          # Label prefix\n",
    "    \"thread\": int(2 * multiprocessing.cpu_count() / 3) # Number of CPU threads\n",
    "}"
   ]
  },
  {
   "cell_type": "code",
   "execution_count": null,
   "id": "a75c8cd1-6154-41b0-8250-a45a7c18c82e",
   "metadata": {},
   "outputs": [],
   "source": [
    "path_data = config['path']['path_data']\n",
    "data_lidl_clean = config['data_preprocessed']['lidl']"
   ]
  },
  {
   "cell_type": "code",
   "execution_count": null,
   "id": "a1be9b60-f273-4268-8981-e8d69f87ef8e",
   "metadata": {},
   "outputs": [],
   "source": [
    "df = pd.read_parquet(path_data + data_lidl_clean)"
   ]
  },
  {
   "cell_type": "code",
   "execution_count": null,
   "id": "ed358c45-d483-4939-b43b-dc6aa6fcf5b0",
   "metadata": {},
   "outputs": [],
   "source": [
    "df = df.loc[df['TRUE_COICOP'].notna()]"
   ]
  },
  {
   "cell_type": "code",
   "execution_count": null,
   "id": "e0fca5f1-49ad-4e51-8abf-aa231b9486a0",
   "metadata": {},
   "outputs": [],
   "source": [
    "df_train, df_test = train_test_split(\n",
    "            df, test_size=0.2, random_state=42\n",
    "        )"
   ]
  },
  {
   "cell_type": "markdown",
   "id": "5b7a5e76-8276-4549-930b-573453f030c8",
   "metadata": {},
   "source": [
    "# Prediction using _flat_ fastText"
   ]
  },
  {
   "cell_type": "code",
   "execution_count": null,
   "id": "fe9596be-f9fc-459f-87bb-028b69144d87",
   "metadata": {},
   "outputs": [],
   "source": [
    "df_flat_fasttext = get_flat_prediction_fasttext(df_train, df_test, 'TRUE_COICOP', 'DESCRIPTION_EAN_FINAL', params)"
   ]
  },
  {
   "cell_type": "code",
   "execution_count": null,
   "id": "ae701922-b016-48a9-ae8b-2cc2ec86235c",
   "metadata": {},
   "outputs": [],
   "source": [
    "get_evaluation_model(df_flat_fasttext, 'TRUE_COICOP', 'FLAT_PRED')"
   ]
  },
  {
   "cell_type": "markdown",
   "id": "5c8deff6-b249-4852-b120-7f1656ea849e",
   "metadata": {},
   "source": [
    "# Prediction using _hierarchical_ fastText"
   ]
  },
  {
   "cell_type": "code",
   "execution_count": null,
   "id": "f334f193-6a75-4af4-8ae2-88c3d71e4882",
   "metadata": {},
   "outputs": [],
   "source": [
    "df_pred_lcpn = get_LCPN_prediction_fasttext(\n",
    "    df_train, df_test, 'TRUE_COICOP', 'DESCRIPTION_EAN_FINAL', params\n",
    ")"
   ]
  },
  {
   "cell_type": "code",
   "execution_count": null,
   "id": "35278b67-acf3-40fe-9438-4433c046f5fc",
   "metadata": {},
   "outputs": [],
   "source": [
    "get_evaluation_model(df_pred_lcpn, 'TRUE_COICOP', 'LCPN_PRED')"
   ]
  },
  {
   "cell_type": "markdown",
   "id": "b013de60-864b-49ce-a4c4-d718293a0a41",
   "metadata": {},
   "source": [
    "# Prediction using Hiclass\n",
    "\n",
    "### Given the limited amount of data available from Lidl, using HiClass for hierarchical predictions can be used as an alternative."
   ]
  },
  {
   "cell_type": "code",
   "execution_count": null,
   "id": "a6719216-9e20-4796-a129-96b7b987217b",
   "metadata": {},
   "outputs": [],
   "source": [
    "max_df = config['hyper_parameters_svm']['max_df']\n",
    "C = config['hyper_parameters_svm']['C']\n",
    "kernel = config['hyper_parameters_svm']['kernel']\n",
    "gamma = config['hyper_parameters_svm']['gamma']"
   ]
  },
  {
   "cell_type": "code",
   "execution_count": null,
   "id": "9a2a07b2-87e5-48d0-8102-f1f312b1b7d0",
   "metadata": {},
   "outputs": [],
   "source": [
    "df_hiclass = get_data_hiclass(df, 'TRUE_COICOP')"
   ]
  },
  {
   "cell_type": "code",
   "execution_count": null,
   "id": "f151695a-0b62-4136-ac20-ce5f081d3151",
   "metadata": {},
   "outputs": [],
   "source": [
    "X = df_hiclass['DESCRIPTION_EAN_FINAL']\n",
    "y = df_hiclass[['DIVISION', 'GROUPE', 'CLASSE', 'SOUS-CLASSE', 'POSTE']]\n",
    "\n",
    "X_train, X_test, y_train, y_test = train_test_split(X, y, test_size=0.2, random_state=42)"
   ]
  },
  {
   "cell_type": "code",
   "execution_count": null,
   "id": "5e7ce2da-8c25-4a93-8aae-e8146f2a0ce3",
   "metadata": {},
   "outputs": [],
   "source": [
    "pipeline = Pipeline([\n",
    "    ('tfidf', TfidfVectorizer(max_df=max_df, ngram_range=(1,2))),\n",
    "    ('clf', LocalClassifierPerParentNode(local_classifier=SVC(C=C, kernel=kernel, gamma=gamma), n_jobs=int(2 * multiprocessing.cpu_count() / 3))),\n",
    "])"
   ]
  },
  {
   "cell_type": "code",
   "execution_count": null,
   "id": "2854b152-1fee-4637-bba1-2729528e0a47",
   "metadata": {},
   "outputs": [],
   "source": [
    "pipeline.fit(X_train, y_train)\n",
    "\n",
    "predictions = pipeline.predict(X_test)"
   ]
  },
  {
   "cell_type": "code",
   "execution_count": null,
   "id": "bdcb8f3a-6251-4c51-a34a-15d14f3a24fd",
   "metadata": {},
   "outputs": [],
   "source": [
    "hiclass_pred = pd.DataFrame({'HICLASS_PRED':pd.DataFrame(predictions)[4], 'TRUE_COICOP':y_test.reset_index(drop=True)['POSTE']})"
   ]
  },
  {
   "cell_type": "code",
   "execution_count": null,
   "id": "00aaea12-8f7a-4591-9d96-83f843e96f48",
   "metadata": {},
   "outputs": [],
   "source": [
    "get_evaluation_model(hiclass_pred, 'TRUE_COICOP', 'HICLASS_PRED')"
   ]
  },
  {
   "cell_type": "markdown",
   "id": "f67fdbf2-81e5-4913-b22d-e57de5d81dc4",
   "metadata": {},
   "source": [
    "# Export data for DataViz"
   ]
  },
  {
   "cell_type": "code",
   "execution_count": null,
   "id": "535ba30b-a1d5-4679-8891-8252238215e0",
   "metadata": {},
   "outputs": [],
   "source": [
    "export_accuracy_data(\n",
    "    hiclass_pred,\n",
    "    true_coicop_column=\"TRUE_COICOP\",\n",
    "    pred_column=\"HICLASS_PRED\",\n",
    "    file_name=\"accuracy_lidl_hiclass\",\n",
    ")"
   ]
  },
  {
   "cell_type": "code",
   "execution_count": null,
   "id": "7186b330-6325-4613-b5e0-9691f3129eb3",
   "metadata": {},
   "outputs": [],
   "source": [
    "export_sankey_data(\n",
    "    hiclass_pred,\n",
    "    true_coicop_column=\"TRUE_COICOP\",\n",
    "    pred_column=\"HICLASS_PRED\",\n",
    "    file_name=\"sankey_lidl_hiclass\",\n",
    ")"
   ]
  }
 ],
 "metadata": {
  "kernelspec": {
   "display_name": "Python 3 (ipykernel)",
   "language": "python",
   "name": "python3"
  },
  "language_info": {
   "codemirror_mode": {
    "name": "ipython",
    "version": 3
   },
   "file_extension": ".py",
   "mimetype": "text/x-python",
   "name": "python",
   "nbconvert_exporter": "python",
   "pygments_lexer": "ipython3",
   "version": "3.8.11"
  }
 },
 "nbformat": 4,
 "nbformat_minor": 5
}
